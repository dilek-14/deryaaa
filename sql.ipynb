{
 "cells": [
  {
   "cell_type": "code",
   "execution_count": 1,
   "id": "e66aa991",
   "metadata": {},
   "outputs": [
    {
     "data": {
      "text/plain": [
       "'c:\\\\Users\\\\asus\\\\Desktop\\\\GIT PROJELER\\\\deryaaa'"
      ]
     },
     "execution_count": 1,
     "metadata": {},
     "output_type": "execute_result"
    }
   ],
   "source": [
    "import os\n",
    "os.getcwd()"
   ]
  },
  {
   "cell_type": "code",
   "execution_count": 2,
   "id": "8e195e5e",
   "metadata": {},
   "outputs": [
    {
     "name": "stdout",
     "output_type": "stream",
     "text": [
      "Hello, World!\n",
      "Current working directory: c:\\Users\\asus\\Desktop\\GIT PROJELER\\deryaaa\n"
     ]
    }
   ],
   "source": [
    "print(\"Hello, World!\")\n",
    "print(\"Current working directory:\", os.getcwd())"
   ]
  },
  {
   "cell_type": "code",
   "execution_count": 4,
   "id": "c413bc20",
   "metadata": {},
   "outputs": [],
   "source": [
    "import pandas as pd"
   ]
  },
  {
   "cell_type": "code",
   "execution_count": 6,
   "id": "f4cdad13",
   "metadata": {},
   "outputs": [],
   "source": [
    "df = pd.read_csv('data.csv')"
   ]
  },
  {
   "cell_type": "code",
   "execution_count": 8,
   "id": "bca70f21",
   "metadata": {},
   "outputs": [
    {
     "data": {
      "text/html": [
       "<div>\n",
       "<style scoped>\n",
       "    .dataframe tbody tr th:only-of-type {\n",
       "        vertical-align: middle;\n",
       "    }\n",
       "\n",
       "    .dataframe tbody tr th {\n",
       "        vertical-align: top;\n",
       "    }\n",
       "\n",
       "    .dataframe thead th {\n",
       "        text-align: right;\n",
       "    }\n",
       "</style>\n",
       "<table border=\"1\" class=\"dataframe\">\n",
       "  <thead>\n",
       "    <tr style=\"text-align: right;\">\n",
       "      <th></th>\n",
       "      <th>adi</th>\n",
       "      <th>soyadi</th>\n",
       "      <th>numarasi</th>\n",
       "    </tr>\n",
       "  </thead>\n",
       "  <tbody>\n",
       "    <tr>\n",
       "      <th>0</th>\n",
       "      <td>Ahmet</td>\n",
       "      <td>Gündüz</td>\n",
       "      <td>1</td>\n",
       "    </tr>\n",
       "    <tr>\n",
       "      <th>1</th>\n",
       "      <td>Dilek</td>\n",
       "      <td>Gündüz</td>\n",
       "      <td>2</td>\n",
       "    </tr>\n",
       "    <tr>\n",
       "      <th>2</th>\n",
       "      <td>Hakan</td>\n",
       "      <td>Akbulut</td>\n",
       "      <td>3</td>\n",
       "    </tr>\n",
       "  </tbody>\n",
       "</table>\n",
       "</div>"
      ],
      "text/plain": [
       "     adi   soyadi  numarasi\n",
       "0  Ahmet   Gündüz         1\n",
       "1  Dilek   Gündüz         2\n",
       "2  Hakan  Akbulut         3"
      ]
     },
     "execution_count": 8,
     "metadata": {},
     "output_type": "execute_result"
    }
   ],
   "source": [
    "df"
   ]
  },
  {
   "cell_type": "code",
   "execution_count": null,
   "id": "0012df9a",
   "metadata": {},
   "outputs": [],
   "source": [
    "ürün, batarya, ekran\n",
    "iphone, 5000, 6.1\n",
    "s24, 4000, 6.5\n",
    "\n",
    "\n",
    "\n",
    "\n",
    "urunler = {\n",
    "    \"iphone\": {\n",
    "        \"batarya\": 5000,\n",
    "        \"ekran\": 6.1\n",
    "    },\n",
    "    \"s24\": {\n",
    "        \"batarya\": 4000,\n",
    "        \"ekran\": 6.5\n",
    "    },\n",
    "    \"bardak\":{\n",
    "        \"yükseklik\": 10,\n",
    "        \"çap\": 5,\n",
    "        \"tip\": \"cam\"\n",
    "    }\n",
    "}"
   ]
  },
  {
   "cell_type": "code",
   "execution_count": 9,
   "id": "9de54663",
   "metadata": {},
   "outputs": [
    {
     "data": {
      "text/plain": [
       "<sqlite3.Cursor at 0x1882df3f6c0>"
      ]
     },
     "execution_count": 9,
     "metadata": {},
     "output_type": "execute_result"
    }
   ],
   "source": [
    "# create sqlite database\n",
    "import sqlite3\n",
    "conn = sqlite3.connect('urunler.db')\n",
    "c = conn.cursor()\n",
    "# create table\n",
    "c.execute('''CREATE TABLE urunler\n",
    "             (urun text, batarya integer, ekran real)''')\n",
    "\n",
    "# insert data\n",
    "c.execute(\"INSERT INTO urunler VALUES ('iphone', 5000, 6.1)\")\n",
    "c.execute(\"INSERT INTO urunler VALUES ('s24', 4000, 6.5)\")  "
   ]
  },
  {
   "cell_type": "code",
   "execution_count": 10,
   "id": "90f75050",
   "metadata": {},
   "outputs": [],
   "source": [
    "# commit the changes\n",
    "conn.commit()"
   ]
  },
  {
   "cell_type": "code",
   "execution_count": null,
   "id": "24854e89",
   "metadata": {},
   "outputs": [],
   "source": [
    "# nosql veritabanı oluşturma\n",
    "from pymongo import MongoClient\n",
    "client = MongoClient('localhost', 27017)\n",
    "db = client['urunler_db']\n",
    "urunler_collection = db['urunler']\n",
    "# insert data\n",
    "urunler_collection.insert_one({\"urun\": \"iphone\", \"batarya\": 5000, \"ekran\": 6.1})\n",
    "urunler_collection.insert_one({\"urun\": \"s24\", \"batarya\": 4000, \"ekran\": 6.5})\n",
    "# bardak verisi ekleme\n",
    "urunler_collection.insert_one({\"urun\": \"bardak\", \"yükseklik\": 10, \"çap\": 5, \"tip\": \"cam\"})\n"
   ]
  },
  {
   "cell_type": "code",
   "execution_count": null,
   "id": "9356145c",
   "metadata": {},
   "outputs": [],
   "source": []
  }
 ],
 "metadata": {
  "kernelspec": {
   "display_name": ".venv",
   "language": "python",
   "name": "python3"
  },
  "language_info": {
   "codemirror_mode": {
    "name": "ipython",
    "version": 3
   },
   "file_extension": ".py",
   "mimetype": "text/x-python",
   "name": "python",
   "nbconvert_exporter": "python",
   "pygments_lexer": "ipython3",
   "version": "3.13.3"
  }
 },
 "nbformat": 4,
 "nbformat_minor": 5
}
