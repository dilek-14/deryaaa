{
 "cells": [
  {
   "cell_type": "code",
   "execution_count": 8,
   "id": "83e2f2df",
   "metadata": {},
   "outputs": [
    {
     "name": "stdout",
     "output_type": "stream",
     "text": [
      "3\n"
     ]
    },
    {
     "data": {
      "text/plain": [
       "str"
      ]
     },
     "execution_count": 8,
     "metadata": {},
     "output_type": "execute_result"
    }
   ],
   "source": [
    " x = 3\n",
    " print (str(x))\n",
    " type(x)\n",
    " x = str(x)\n",
    " type(x)"
   ]
  },
  {
   "cell_type": "code",
   "execution_count": 29,
   "id": "11fe0be7",
   "metadata": {},
   "outputs": [
    {
     "name": "stdout",
     "output_type": "stream",
     "text": [
      "[1, 2, 100, 6, 7]\n",
      "[1, 2, 100, 7]\n",
      "[1, 2, 100, 7, 'a', 'b', 'c', 'd', 'e', 'f']\n"
     ]
    },
    {
     "ename": "TypeError",
     "evalue": "'<' not supported between instances of 'str' and 'int'",
     "output_type": "error",
     "traceback": [
      "\u001b[31m---------------------------------------------------------------------------\u001b[39m",
      "\u001b[31mTypeError\u001b[39m                                 Traceback (most recent call last)",
      "\u001b[36mCell\u001b[39m\u001b[36m \u001b[39m\u001b[32mIn[29]\u001b[39m\u001b[32m, line 9\u001b[39m\n\u001b[32m      7\u001b[39m liste.extend(liste1)\n\u001b[32m      8\u001b[39m \u001b[38;5;28mprint\u001b[39m(liste)\n\u001b[32m----> \u001b[39m\u001b[32m9\u001b[39m \u001b[43mliste\u001b[49m\u001b[43m.\u001b[49m\u001b[43msort\u001b[49m\u001b[43m(\u001b[49m\u001b[43m)\u001b[49m\n\u001b[32m     10\u001b[39m \u001b[38;5;28mprint\u001b[39m(liste)\n",
      "\u001b[31mTypeError\u001b[39m: '<' not supported between instances of 'str' and 'int'"
     ]
    }
   ],
   "source": [
    " liste = [1, 2, 6, 7]\n",
    " liste.insert(2,100)\n",
    " print(liste)\n",
    " liste.remove(6)\n",
    " print(liste)\n",
    " liste1 = [\"a\", \"b\", \"c\", \"d\", \"e\", \"f\"]\n",
    " liste.extend(liste1)\n",
    " print(liste)\n",
    " liste.sort()\n",
    " print(liste)"
   ]
  },
  {
   "cell_type": "code",
   "execution_count": 34,
   "id": "5e1056a1",
   "metadata": {},
   "outputs": [
    {
     "name": "stdout",
     "output_type": "stream",
     "text": [
      "[100, 7, 6, 2, 1]\n"
     ]
    }
   ],
   "source": [
    " liste = [1, 100, 2, 6, 7]\n",
    " liste.sort(reverse = True)\n",
    " print(liste)"
   ]
  },
  {
   "cell_type": "code",
   "execution_count": 32,
   "id": "805b3683",
   "metadata": {},
   "outputs": [
    {
     "name": "stdout",
     "output_type": "stream",
     "text": [
      "[1, 100, 2, 10, 7]\n",
      "[1, 100, 2, 10, 7, 20]\n"
     ]
    },
    {
     "ename": "TypeError",
     "evalue": "insert expected 2 arguments, got 1",
     "output_type": "error",
     "traceback": [
      "\u001b[31m---------------------------------------------------------------------------\u001b[39m",
      "\u001b[31mTypeError\u001b[39m                                 Traceback (most recent call last)",
      "\u001b[36mCell\u001b[39m\u001b[36m \u001b[39m\u001b[32mIn[32]\u001b[39m\u001b[32m, line 6\u001b[39m\n\u001b[32m      4\u001b[39m liste.append(\u001b[32m20\u001b[39m)\n\u001b[32m      5\u001b[39m \u001b[38;5;28mprint\u001b[39m(liste)\n\u001b[32m----> \u001b[39m\u001b[32m6\u001b[39m \u001b[43mliste\u001b[49m\u001b[43m.\u001b[49m\u001b[43minsert\u001b[49m\u001b[43m(\u001b[49m\u001b[32;43m2\u001b[39;49m\u001b[43m)\u001b[49m\n\u001b[32m      7\u001b[39m \u001b[38;5;28mprint\u001b[39m(liste)\n\u001b[32m      8\u001b[39m liste.sort()\n",
      "\u001b[31mTypeError\u001b[39m: insert expected 2 arguments, got 1"
     ]
    }
   ],
   "source": [
    "\n",
    " liste = [1, 100, 2, 6, 7]\n",
    " liste[3] = 10\n",
    " print(liste)\n",
    " liste.append(20)\n",
    " print(liste)\n",
    " liste.insert(2)\n",
    " print(liste)\n",
    " liste.sort()\n",
    " print(liste)\n",
    " "
   ]
  },
  {
   "cell_type": "code",
   "execution_count": 15,
   "id": "d6f6573a",
   "metadata": {},
   "outputs": [
    {
     "name": "stdout",
     "output_type": "stream",
     "text": [
      "muz\n",
      "['karpuz', 'çilek', 'kivi']\n"
     ]
    }
   ],
   "source": [
    "liste = [\"muz\", \"çilek\", \"kivi\"]\n",
    "print(liste[0])\n",
    "liste[0] = \"karpuz\"\n",
    "print(liste)"
   ]
  },
  {
   "cell_type": "code",
   "execution_count": 13,
   "id": "b6fe2d9a",
   "metadata": {},
   "outputs": [
    {
     "name": "stdout",
     "output_type": "stream",
     "text": [
      "Dilek\n"
     ]
    }
   ],
   "source": [
    "s = \"dilek\"\n",
    "s = \"D\" + s[1:]\n",
    "print(s)"
   ]
  },
  {
   "cell_type": "code",
   "execution_count": 12,
   "id": "2b996b67",
   "metadata": {},
   "outputs": [
    {
     "name": "stdout",
     "output_type": "stream",
     "text": [
      "[1, 2, 3, 4, 5]\n"
     ]
    }
   ],
   "source": [
    " liste = [1, 2, 3, 4]\n",
    " liste.append(5)\n",
    " print(liste)"
   ]
  },
  {
   "cell_type": "code",
   "execution_count": 10,
   "id": "2420b3e9",
   "metadata": {},
   "outputs": [
    {
     "name": "stdout",
     "output_type": "stream",
     "text": [
      "5\n"
     ]
    }
   ],
   "source": [
    "x = \"5\"\n",
    "print (int(x))"
   ]
  },
  {
   "cell_type": "code",
   "execution_count": 11,
   "id": "02b3a930",
   "metadata": {},
   "outputs": [
    {
     "name": "stdout",
     "output_type": "stream",
     "text": [
      "5\n"
     ]
    }
   ],
   "source": [
    "x = 5\n",
    "print (str(x))"
   ]
  },
  {
   "cell_type": "code",
   "execution_count": 2,
   "id": "899f5297",
   "metadata": {},
   "outputs": [
    {
     "name": "stdout",
     "output_type": "stream",
     "text": [
      "3.14\n"
     ]
    },
    {
     "data": {
      "text/plain": [
       "float"
      ]
     },
     "execution_count": 2,
     "metadata": {},
     "output_type": "execute_result"
    }
   ],
   "source": [
    "pi = 3.14\n",
    "print (pi)\n",
    "type(pi)"
   ]
  },
  {
   "cell_type": "code",
   "execution_count": 35,
   "id": "9519755a",
   "metadata": {},
   "outputs": [
    {
     "name": "stdout",
     "output_type": "stream",
     "text": [
      "{'m': 3, 'a': 3, 'l': 3, 't': 2, 'y': 1, 'e': 5, 'n': 1, 'g': 1, 'ü': 1, 'z': 1, 'k': 1}\n"
     ]
    }
   ],
   "source": [
    "kelime = \"malatya\" \"en\" \"güzel\" \"memleket\"\n",
    "harfsayısı = {}\n",
    "for harf in kelime:\n",
    "    harfsayısı[harf] = harfsayısı.get(harf, 0) + 1\n",
    "print(harfsayısı)"
   ]
  },
  {
   "cell_type": "code",
   "execution_count": 41,
   "id": "d3c45e9d",
   "metadata": {},
   "outputs": [
    {
     "name": "stdout",
     "output_type": "stream",
     "text": [
      "{'isim': 'Gülbahar', 'soyadı': 'Gündüz', 'yası': 31}\n",
      "{'isim': 'Gülbahar', 'soyadı': 'Gündüz', 'yası': 31, 'meslek': 'avukat'}\n",
      "dict_items([('isim', 'Gülbahar'), ('soyadı', 'Gündüz'), ('yası', 31), ('meslek', 'avukat')])\n",
      "dict_keys(['isim', 'soyadı', 'yası', 'meslek'])\n"
     ]
    }
   ],
   "source": [
    "kişi = {\n",
    "    \"isim\" : \"Gülbahar\",\n",
    "    \"soyadı\": \"Gündüz\",\n",
    "    \"yası\": 31\n",
    "}\n",
    "print(kişi)\n",
    "kişi[\"meslek\"] = \"avukat\"\n",
    "print(kişi)\n",
    "print(kişi.items())\n",
    "print(kişi.keys())"
   ]
  },
  {
   "cell_type": "code",
   "execution_count": null,
   "id": "f0eed5b6",
   "metadata": {},
   "outputs": [],
   "source": []
  }
 ],
 "metadata": {
  "kernelspec": {
   "display_name": ".venv",
   "language": "python",
   "name": "python3"
  },
  "language_info": {
   "codemirror_mode": {
    "name": "ipython",
    "version": 3
   },
   "file_extension": ".py",
   "mimetype": "text/x-python",
   "name": "python",
   "nbconvert_exporter": "python",
   "pygments_lexer": "ipython3",
   "version": "3.13.3"
  }
 },
 "nbformat": 4,
 "nbformat_minor": 5
}
