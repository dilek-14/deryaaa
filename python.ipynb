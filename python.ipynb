{
 "cells": [
  {
   "cell_type": "code",
   "execution_count": 20,
   "id": "da786d62",
   "metadata": {},
   "outputs": [],
   "source": [
    "\n",
    "def harf_sayisi_for(input_str):\n",
    "    harf_sayilari = {} # output = {'h': 1, 'e': 1, 'l': 3, 'o': 2, ' ': 1, 'w': 1, 'r': 1, 'd': 1}\n",
    "    print(\"input_str: \", input_str)\n",
    "    print(\"harf_sayilari: \", harf_sayilari)\n",
    "    for harf in input_str:\n",
    "        if harf in harf_sayilari: # eger \n",
    "            harf_sayilari[harf] = harf_sayilari[harf] + 1\n",
    "        else: # eger yoksa\n",
    "            harf_sayilari[harf] = 1\n",
    "        # print(harf_sayilari)\n",
    "        \n",
    "    return harf_sayilari\n"
   ]
  },
  {
   "cell_type": "code",
   "execution_count": 21,
   "id": "32ce1a01",
   "metadata": {},
   "outputs": [],
   "source": [
    "\n",
    "def harf_sayisi_while(input_str):\n",
    "    harf_sayilari = {} # output = {'h': 1, 'e': 1, 'l': 3, 'o': 2, ' ': 1, 'w': 1, 'r': 1, 'd': 1}\n",
    "    print(\"input_str: \", input_str)\n",
    "    print(\"harf_sayilari: \", harf_sayilari)\n",
    "    bitti_mi= False\n",
    "    index = 0\n",
    "    while not bitti_mi:\n",
    "        harf = input_str[index]\n",
    "        if harf in harf_sayilari:\n",
    "            harf_sayilari[harf] = harf_sayilari[harf] + 1\n",
    "        else:\n",
    "            harf_sayilari[harf] = 1\n",
    "        if index == len(input_str) - 1:\n",
    "            bitti_mi = True\n",
    "        index = index + 1 \n",
    "        \n",
    "    return harf_sayilari"
   ]
  },
  {
   "cell_type": "code",
   "execution_count": 14,
   "id": "53998692",
   "metadata": {},
   "outputs": [
    {
     "data": {
      "text/plain": [
       "True"
      ]
     },
     "execution_count": 14,
     "metadata": {},
     "output_type": "execute_result"
    }
   ],
   "source": [
    "bitti_mi= False\n",
    "not bitti_mi"
   ]
  },
  {
   "cell_type": "code",
   "execution_count": 23,
   "id": "8f2c439e",
   "metadata": {},
   "outputs": [
    {
     "name": "stdout",
     "output_type": "stream",
     "text": [
      "input_str:  dilek ve ahmet dersr-\n",
      "harf_sayilari:  {}\n",
      "For ile olan method:    {'d': 2, 'i': 1, 'l': 1, 'e': 4, 'k': 1, ' ': 3, 'v': 1, 'a': 1, 'h': 1, 'm': 1, 't': 1, 'r': 2, 's': 1, '-': 1}\n",
      "input_str:  dilek ve ahmet dersr-\n",
      "harf_sayilari:  {}\n",
      "While ile olan method:  {'d': 2, 'i': 1, 'l': 1, 'e': 4, 'k': 1, ' ': 3, 'v': 1, 'a': 1, 'h': 1, 'm': 1, 't': 1, 'r': 2, 's': 1, '-': 1}\n"
     ]
    }
   ],
   "source": [
    "test_str = \"dilek ve ahmet dersr-\"\n",
    "print(\"For ile olan method:   \", harf_sayisi_for(test_str))\n",
    "print(\"While ile olan method: \", harf_sayisi_while(test_str))\n"
   ]
  },
  {
   "cell_type": "code",
   "execution_count": 15,
   "id": "e94adbf7",
   "metadata": {},
   "outputs": [
    {
     "data": {
      "text/plain": [
       "11"
      ]
     },
     "execution_count": 15,
     "metadata": {},
     "output_type": "execute_result"
    }
   ],
   "source": [
    "len(\"hello world\")"
   ]
  },
  {
   "cell_type": "code",
   "execution_count": 27,
   "id": "aab7ea83",
   "metadata": {},
   "outputs": [
    {
     "name": "stdout",
     "output_type": "stream",
     "text": [
      "1\n",
      "2\n",
      "[3, 4, 5]\n",
      "[3, 4, 5]\n",
      "[3, 4, 5]\n"
     ]
    }
   ],
   "source": [
    "litem = [1, 2, 3, 4, 5]\n",
    "print(litem[0])\n",
    "print(litem[1])\n",
    "print(litem[2:5])\n",
    "print(litem[-3:])\n",
    "print(litem[2:5:1])"
   ]
  },
  {
   "cell_type": "code",
   "execution_count": 30,
   "id": "1d409736",
   "metadata": {},
   "outputs": [
    {
     "name": "stdout",
     "output_type": "stream",
     "text": [
      "1\n",
      "2\n",
      "3\n"
     ]
    }
   ],
   "source": [
    "sozlugum = {'as': 1, 'b': 2, 'c': 3}\n",
    "print(sozlugum['as'])\n",
    "print(sozlugum['b'])\n",
    "print(sozlugum['c'])"
   ]
  },
  {
   "cell_type": "markdown",
   "id": "49a3c143",
   "metadata": {},
   "source": [
    "Python\n",
    "1. Veri Tipleri\n",
    "2. Verilerin indekslemeleri, liste[5], liste[3:5]\n",
    "3. Fonksiyonlar - methodlar\n",
    "4. Döngüler\n",
    "5. İf else\n",
    "6. Bazı temel kütüphaneler: numpy, pandas, matplotlib  - Ne için kullanılıyor öğren ve detaya gir - f.Veri analitiği ve veri temizleme süreçleri hakkında bilgi sahibi olmak,\n",
    "\n",
    "SQL: Veri Çekme sorgularını tekrar et \n",
    "NoSQL: MongoDB'yle ilgili oku\n",
    "\n",
    "\n",
    "1. (Hadoop, Spark) oku \n",
    "2. (Tableau, PowerBI, vb.) oku"
   ]
  }
 ],
 "metadata": {
  "kernelspec": {
   "display_name": ".venv",
   "language": "python",
   "name": "python3"
  },
  "language_info": {
   "codemirror_mode": {
    "name": "ipython",
    "version": 3
   },
   "file_extension": ".py",
   "mimetype": "text/x-python",
   "name": "python",
   "nbconvert_exporter": "python",
   "pygments_lexer": "ipython3",
   "version": "3.13.3"
  }
 },
 "nbformat": 4,
 "nbformat_minor": 5
}
